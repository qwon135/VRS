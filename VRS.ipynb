{
 "cells": [
  {
   "cell_type": "code",
   "execution_count": null,
   "metadata": {},
   "outputs": [],
   "source": [
    "import torch\n",
    "from torch import nn\n",
    "from mamba_ssm import Mamba\n",
    "import numpy as np\n",
    "from sklearn.mixture import GaussianMixture\n",
    "from sklearn.preprocessing import StandardScaler, RobustScaler\n",
    "from sklearn.decomposition import PCA\n",
    "from matplotlib import pyplot as plt"
   ]
  },
  {
   "cell_type": "code",
   "execution_count": null,
   "metadata": {},
   "outputs": [],
   "source": [
    "device = 'cuda:0'\n",
    "ckpt = ''"
   ]
  },
  {
   "cell_type": "code",
   "execution_count": null,
   "metadata": {},
   "outputs": [],
   "source": [
    "\n",
    "class CT25D(nn.Module):\n",
    "    def __init__(self):\n",
    "        super(CT25D, self).__init__()\n",
    "                \n",
    "        self.cnn = torch.hub.load('facebookresearch/dinov2', f'dinov2_vitb14')\n",
    "        self.hidden_dim = 768\n",
    "        self.lstm = nn.LSTM(768, 768, 2, batch_first=True, bidirectional=True)\n",
    "\n",
    "        self.proj = nn.Sequential(                        \n",
    "            nn.Linear(self.hidden_dim, self.hidden_dim),\n",
    "            nn.ReLU(),\n",
    "            nn.Linear(self.hidden_dim, self.hidden_dim//2),\n",
    "            nn.ReLU(),\n",
    "            nn.Linear(self.hidden_dim//2, 128),  \n",
    "            nn.ReLU(),\n",
    "            nn.Linear(128, 64),  \n",
    "            nn.ReLU(),\n",
    "            nn.Linear(64, 32),  \n",
    "            )\n",
    "\n",
    "\n",
    "    def forward(self, imgs):                \n",
    "        bs, n_img, channel, w, h = imgs.shape\n",
    "        imgs = imgs.reshape(bs * n_img, channel, w, h)\n",
    "        img_feats = self.cnn(imgs)        \n",
    "        img_feats = img_feats.reshape(bs, n_img, -1)        \n",
    "\n",
    "        img_feats = self.lstm(img_feats)\n",
    "        img_feats = img_feats.mean(1)        \n",
    "        return img_feats\n",
    "    "
   ]
  },
  {
   "cell_type": "code",
   "execution_count": null,
   "metadata": {},
   "outputs": [],
   "source": [
    "model = CT25D().to(device)\n",
    "model.load_state_dict(torch.load(ckpt, map_location='cpu'))\n",
    "model = model.eval()"
   ]
  },
  {
   "cell_type": "code",
   "execution_count": null,
   "metadata": {},
   "outputs": [],
   "source": [
    "data_loader = ... # Use your dataset\n",
    "normal_loader = ... # Use your dataset"
   ]
  },
  {
   "cell_type": "code",
   "execution_count": null,
   "metadata": {},
   "outputs": [],
   "source": [
    "normal_features = []\n",
    "for images in normal_loader:\n",
    "    with torch.no_grad():\n",
    "        features = model(images.to(device)).cpu()\n",
    "    \n",
    "    normal_features.append(features)\n",
    "\n",
    "tumor_vessel_features = []\n",
    "density_list = []\n",
    "\n",
    "for bs_img, bs_v_msks, pid in data_loader:    \n",
    "    with torch.no_grad():\n",
    "        feature = model(bs_img.to(device)).cpu()    \n",
    "        tumor_vessel_features.append(feature)    "
   ]
  },
  {
   "cell_type": "code",
   "execution_count": null,
   "metadata": {},
   "outputs": [],
   "source": [
    "normal_vessel_features = torch.cat(normal_features,0).numpy()\n",
    "tumor_vessel_features = torch.cat(tumor_vessel_features, 0).numpy()"
   ]
  },
  {
   "cell_type": "code",
   "execution_count": null,
   "metadata": {},
   "outputs": [],
   "source": [
    "def calculate_vessel_risk_score(normal_features, tumor_features, n_components=5, random_state=42, do_pca=False):\n",
    "        \n",
    "    normal_reduced = normal_features\n",
    "    tumor_reduced = tumor_features\n",
    "    \n",
    "    if do_pca:\n",
    "        pca_components = 0.95\n",
    "        pca = PCA(n_components=pca_components, random_state=random_state)\n",
    "        normal_reduced = pca.fit_transform(normal_features)\n",
    "        tumor_reduced = pca.transform(tumor_features)    \n",
    "    \n",
    "\n",
    "    normal_scaled = normal_reduced\n",
    "    tumor_scaled = tumor_reduced\n",
    "    \n",
    "    gmm = GaussianMixture(\n",
    "        n_components=n_components,\n",
    "        covariance_type='full',\n",
    "        random_state=random_state,\n",
    "        reg_covar=4e-3  # 수치 안정성을 위한 정규화\n",
    "    )\n",
    "    gmm.fit(normal_scaled)\n",
    "    \n",
    "    normal_log_probs = gmm.score_samples(normal_scaled)\n",
    "    tumor_log_probs = gmm.score_samples(tumor_scaled)\n",
    "    \n",
    "    normal_scores = -normal_log_probs\n",
    "    tumor_scores = -tumor_log_probs    \n",
    "    \n",
    "    p05 = np.percentile(tumor_scores, 5)\n",
    "    p95 = np.percentile(tumor_scores, 95)\n",
    "    print(p05, p95)\n",
    "        \n",
    "    tumor_scores = (tumor_scores - p05) / (p95 - p05)    \n",
    "    # tumor_scores = np.clip(tumor_scores, 0, 1)\n",
    "    plt.hist(tumor_scores)\n",
    "    \n",
    "    return {\n",
    "        'vessel_risk_scores': tumor_scores,        \n",
    "        'gmm': gmm,\n",
    "        # 'scaler': scaler\n",
    "        }"
   ]
  },
  {
   "cell_type": "code",
   "execution_count": null,
   "metadata": {},
   "outputs": [],
   "source": [
    "VRS_score = calculate_vessel_risk_score(normal_vessel_features, tumor_vessel_features, n_components=2, random_state=42, do_pca=False)"
   ]
  }
 ],
 "metadata": {
  "language_info": {
   "name": "python"
  }
 },
 "nbformat": 4,
 "nbformat_minor": 2
}
